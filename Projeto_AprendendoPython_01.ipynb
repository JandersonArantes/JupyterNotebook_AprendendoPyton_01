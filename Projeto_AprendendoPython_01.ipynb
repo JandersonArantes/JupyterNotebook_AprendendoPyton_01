{
 "cells": [
  {
   "cell_type": "code",
   "execution_count": 1,
   "id": "8668dc88",
   "metadata": {},
   "outputs": [],
   "source": [
    "# Isso é um comentário no Python"
   ]
  },
  {
   "cell_type": "markdown",
   "id": "c82b3b35",
   "metadata": {},
   "source": [
    "## Imprimindo dados na tela do computador"
   ]
  },
  {
   "cell_type": "code",
   "execution_count": 2,
   "id": "e26b2264",
   "metadata": {},
   "outputs": [
    {
     "name": "stdout",
     "output_type": "stream",
     "text": [
      "Semana Python na prática\n"
     ]
    }
   ],
   "source": [
    "print(\"Semana Python na prática\")"
   ]
  },
  {
   "cell_type": "code",
   "execution_count": 3,
   "id": "961599dd",
   "metadata": {},
   "outputs": [
    {
     "name": "stdout",
     "output_type": "stream",
     "text": [
      "Meu primeiro código\n"
     ]
    }
   ],
   "source": [
    "print(\"Meu primeiro código\")"
   ]
  },
  {
   "cell_type": "code",
   "execution_count": 11,
   "id": "bec23d87",
   "metadata": {},
   "outputs": [
    {
     "name": "stdout",
     "output_type": "stream",
     "text": [
      "10\n"
     ]
    }
   ],
   "source": [
    "# Isso é um tipo texto\n",
    "print(\"10\")"
   ]
  },
  {
   "cell_type": "code",
   "execution_count": 12,
   "id": "69123f33",
   "metadata": {},
   "outputs": [
    {
     "data": {
      "text/plain": [
       "str"
      ]
     },
     "execution_count": 12,
     "metadata": {},
     "output_type": "execute_result"
    }
   ],
   "source": [
    "type(\"10\")"
   ]
  },
  {
   "cell_type": "code",
   "execution_count": 13,
   "id": "64332144",
   "metadata": {},
   "outputs": [
    {
     "name": "stdout",
     "output_type": "stream",
     "text": [
      "10\n"
     ]
    }
   ],
   "source": [
    "# Isso é um tipo numérico (número inteiro)\n",
    "print(10)"
   ]
  },
  {
   "cell_type": "code",
   "execution_count": 14,
   "id": "c4108968",
   "metadata": {},
   "outputs": [
    {
     "data": {
      "text/plain": [
       "int"
      ]
     },
     "execution_count": 14,
     "metadata": {},
     "output_type": "execute_result"
    }
   ],
   "source": [
    "type(10)"
   ]
  },
  {
   "cell_type": "code",
   "execution_count": 15,
   "id": "ac587079",
   "metadata": {},
   "outputs": [
    {
     "name": "stdout",
     "output_type": "stream",
     "text": [
      "10.5\n"
     ]
    }
   ],
   "source": [
    "# Isso é um tipo numérico (número com casa decimal)\n",
    "print(10.5)"
   ]
  },
  {
   "cell_type": "code",
   "execution_count": 16,
   "id": "7560d85b",
   "metadata": {},
   "outputs": [
    {
     "data": {
      "text/plain": [
       "float"
      ]
     },
     "execution_count": 16,
     "metadata": {},
     "output_type": "execute_result"
    }
   ],
   "source": [
    "type(10.5)"
   ]
  },
  {
   "cell_type": "code",
   "execution_count": 17,
   "id": "7cf8f9ed",
   "metadata": {},
   "outputs": [
    {
     "name": "stdout",
     "output_type": "stream",
     "text": [
      "11\n"
     ]
    }
   ],
   "source": [
    "print(10 + 1)"
   ]
  },
  {
   "cell_type": "code",
   "execution_count": 18,
   "id": "bd3293c3",
   "metadata": {},
   "outputs": [
    {
     "name": "stdout",
     "output_type": "stream",
     "text": [
      "5\n"
     ]
    }
   ],
   "source": [
    "print(10-5)"
   ]
  },
  {
   "cell_type": "code",
   "execution_count": 19,
   "id": "2a2bfef9",
   "metadata": {},
   "outputs": [
    {
     "name": "stdout",
     "output_type": "stream",
     "text": [
      "100\n"
     ]
    }
   ],
   "source": [
    "print(10 * 10)"
   ]
  },
  {
   "cell_type": "code",
   "execution_count": 21,
   "id": "4245df8f",
   "metadata": {},
   "outputs": [
    {
     "name": "stdout",
     "output_type": "stream",
     "text": [
      "10.0\n"
     ]
    },
    {
     "data": {
      "text/plain": [
       "float"
      ]
     },
     "execution_count": 21,
     "metadata": {},
     "output_type": "execute_result"
    }
   ],
   "source": [
    "print(100 / 10)\n",
    "type(100 / 10)"
   ]
  },
  {
   "cell_type": "code",
   "execution_count": 22,
   "id": "5293f2cc",
   "metadata": {},
   "outputs": [
    {
     "name": "stdout",
     "output_type": "stream",
     "text": [
      "10 + 20\n"
     ]
    }
   ],
   "source": [
    "# CUIDADO!!!! Não podemos realizar cálculos com textos e nem entre tipos diferentes!\n",
    "print(\"10 + 20\")"
   ]
  },
  {
   "cell_type": "code",
   "execution_count": 23,
   "id": "ef224995",
   "metadata": {},
   "outputs": [
    {
     "ename": "TypeError",
     "evalue": "can only concatenate str (not \"int\") to str",
     "output_type": "error",
     "traceback": [
      "\u001b[1;31m---------------------------------------------------------------------------\u001b[0m",
      "\u001b[1;31mTypeError\u001b[0m                                 Traceback (most recent call last)",
      "Cell \u001b[1;32mIn[23], line 2\u001b[0m\n\u001b[0;32m      1\u001b[0m \u001b[38;5;66;03m# Gera um erro. Pois, estamos somando um texto com um número inteiro!\u001b[39;00m\n\u001b[1;32m----> 2\u001b[0m \u001b[38;5;28mprint\u001b[39m(\u001b[38;5;124m\"\u001b[39m\u001b[38;5;124m10\u001b[39m\u001b[38;5;124m\"\u001b[39m \u001b[38;5;241m+\u001b[39m \u001b[38;5;241m10\u001b[39m)\n",
      "\u001b[1;31mTypeError\u001b[0m: can only concatenate str (not \"int\") to str"
     ]
    }
   ],
   "source": [
    "# Gera um erro. Pois, estamos somando um texto com um número inteiro!\n",
    "print(\"10\" + 10)"
   ]
  },
  {
   "cell_type": "markdown",
   "id": "719da7bc",
   "metadata": {},
   "source": [
    "## Recebendo dados do usuário"
   ]
  },
  {
   "cell_type": "code",
   "execution_count": 1,
   "id": "1e5950ef",
   "metadata": {},
   "outputs": [
    {
     "name": "stdout",
     "output_type": "stream",
     "text": [
      "Semana do Python na prática\n"
     ]
    },
    {
     "data": {
      "text/plain": [
       "'Semana do Python na prática'"
      ]
     },
     "execution_count": 1,
     "metadata": {},
     "output_type": "execute_result"
    }
   ],
   "source": [
    "input()"
   ]
  },
  {
   "cell_type": "code",
   "execution_count": 26,
   "id": "38a944bb",
   "metadata": {},
   "outputs": [
    {
     "name": "stdout",
     "output_type": "stream",
     "text": [
      "Digite o seu nome: Janderson Alves De Arantes\n",
      "Digite a sua idade: 45\n"
     ]
    },
    {
     "data": {
      "text/plain": [
       "'45'"
      ]
     },
     "execution_count": 26,
     "metadata": {},
     "output_type": "execute_result"
    }
   ],
   "source": [
    "input(\"Digite o seu nome: \")\n",
    "input(\"Digite a sua idade: \")"
   ]
  },
  {
   "cell_type": "markdown",
   "id": "de08e44d",
   "metadata": {},
   "source": [
    "## Variáveis; guardando informações"
   ]
  },
  {
   "cell_type": "code",
   "execution_count": 27,
   "id": "e98f213a",
   "metadata": {},
   "outputs": [
    {
     "name": "stdout",
     "output_type": "stream",
     "text": [
      "Semana do Python na prática\n"
     ]
    }
   ],
   "source": [
    "nome = \"Semana do Python na prática\"\n",
    "print(nome)"
   ]
  },
  {
   "cell_type": "code",
   "execution_count": 28,
   "id": "74ac4aeb",
   "metadata": {},
   "outputs": [
    {
     "name": "stdout",
     "output_type": "stream",
     "text": [
      "30\n"
     ]
    }
   ],
   "source": [
    "numero1 = 10\n",
    "numero2 = 20\n",
    "resultado = numero1 + numero2\n",
    "print(resultado)"
   ]
  },
  {
   "cell_type": "code",
   "execution_count": 29,
   "id": "9d4bc88b",
   "metadata": {},
   "outputs": [
    {
     "name": "stdout",
     "output_type": "stream",
     "text": [
      "Digite o nome: Janderson\n",
      "Digite a sua idade: 45\n",
      "Digite o seu peso: 79.5\n"
     ]
    }
   ],
   "source": [
    "nome = input(\"Digite o nome: \")\n",
    "idade = input(\"Digite a sua idade: \")\n",
    "peso = input(\"Digite o seu peso: \")"
   ]
  },
  {
   "cell_type": "code",
   "execution_count": 36,
   "id": "7b49a1f0",
   "metadata": {},
   "outputs": [
    {
     "data": {
      "text/plain": [
       "str"
      ]
     },
     "execution_count": 36,
     "metadata": {},
     "output_type": "execute_result"
    }
   ],
   "source": [
    "# CUIDADE! Todos os dados que digitamos no input() são TEXTO, mesmo os números!\n",
    "type(nome)"
   ]
  },
  {
   "cell_type": "code",
   "execution_count": 37,
   "id": "3d7efff6",
   "metadata": {},
   "outputs": [
    {
     "data": {
      "text/plain": [
       "str"
      ]
     },
     "execution_count": 37,
     "metadata": {},
     "output_type": "execute_result"
    }
   ],
   "source": [
    "type(peso)"
   ]
  },
  {
   "cell_type": "code",
   "execution_count": 38,
   "id": "598f735b",
   "metadata": {},
   "outputs": [
    {
     "data": {
      "text/plain": [
       "str"
      ]
     },
     "execution_count": 38,
     "metadata": {},
     "output_type": "execute_result"
    }
   ],
   "source": [
    "type(idade)"
   ]
  },
  {
   "cell_type": "code",
   "execution_count": 39,
   "id": "4078323f",
   "metadata": {},
   "outputs": [
    {
     "name": "stdout",
     "output_type": "stream",
     "text": [
      "55\n"
     ]
    }
   ],
   "source": [
    "print(int(idade) + 10)"
   ]
  },
  {
   "cell_type": "code",
   "execution_count": 40,
   "id": "668db723",
   "metadata": {},
   "outputs": [
    {
     "name": "stdout",
     "output_type": "stream",
     "text": [
      "10.34\n"
     ]
    }
   ],
   "source": [
    "print(float(\"10.34\"))"
   ]
  },
  {
   "cell_type": "code",
   "execution_count": 41,
   "id": "47a0c57e",
   "metadata": {},
   "outputs": [
    {
     "data": {
      "text/plain": [
       "int"
      ]
     },
     "execution_count": 41,
     "metadata": {},
     "output_type": "execute_result"
    }
   ],
   "source": [
    "type(10)"
   ]
  },
  {
   "cell_type": "code",
   "execution_count": 42,
   "id": "5fb74404",
   "metadata": {},
   "outputs": [
    {
     "data": {
      "text/plain": [
       "str"
      ]
     },
     "execution_count": 42,
     "metadata": {},
     "output_type": "execute_result"
    }
   ],
   "source": [
    "type(str(10))"
   ]
  },
  {
   "cell_type": "markdown",
   "id": "039ad270",
   "metadata": {},
   "source": [
    "## Juntando textos com variáveis"
   ]
  },
  {
   "cell_type": "code",
   "execution_count": 43,
   "id": "10c1b6e7",
   "metadata": {},
   "outputs": [
    {
     "name": "stdout",
     "output_type": "stream",
     "text": [
      "Digite o seu nome: Janderson Arantes\n",
      "Digite a sua idade: 25\n"
     ]
    }
   ],
   "source": [
    "nome = input(\"Digite o seu nome: \")\n",
    "idade = input(\"Digite a sua idade: \")"
   ]
  },
  {
   "cell_type": "code",
   "execution_count": 46,
   "id": "f96299a5",
   "metadata": {},
   "outputs": [
    {
     "name": "stdout",
     "output_type": "stream",
     "text": [
      "Meu nome é Janderson Arantes e eu tenho 25 anos!\n"
     ]
    }
   ],
   "source": [
    "print(f\"Meu nome é {nome} e eu tenho {idade} anos!\")"
   ]
  },
  {
   "cell_type": "code",
   "execution_count": null,
   "id": "2e1f7b36",
   "metadata": {},
   "outputs": [],
   "source": []
  },
  {
   "cell_type": "code",
   "execution_count": null,
   "id": "e5b54494",
   "metadata": {},
   "outputs": [],
   "source": []
  },
  {
   "cell_type": "code",
   "execution_count": null,
   "id": "c4b578da",
   "metadata": {},
   "outputs": [],
   "source": []
  }
 ],
 "metadata": {
  "kernelspec": {
   "display_name": "Python 3 (ipykernel)",
   "language": "python",
   "name": "python3"
  },
  "language_info": {
   "codemirror_mode": {
    "name": "ipython",
    "version": 3
   },
   "file_extension": ".py",
   "mimetype": "text/x-python",
   "name": "python",
   "nbconvert_exporter": "python",
   "pygments_lexer": "ipython3",
   "version": "3.11.5"
  }
 },
 "nbformat": 4,
 "nbformat_minor": 5
}
